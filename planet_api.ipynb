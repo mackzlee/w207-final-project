{
 "cells": [
  {
   "cell_type": "code",
   "execution_count": 1,
   "metadata": {},
   "outputs": [],
   "source": [
    "from planet import api\n",
    "import sys"
   ]
  },
  {
   "cell_type": "markdown",
   "metadata": {},
   "source": [
    "## Use the [Planet API](https://developers.planet.com/docs/apis/data/) to pull Satellite Imagery"
   ]
  },
  {
   "cell_type": "code",
   "execution_count": 2,
   "metadata": {},
   "outputs": [],
   "source": [
    "# used http://geojson.io to get the coordinates for SF Bay\n",
    "\n",
    "geojson_geometry = {\n",
    "  \"type\": \"Polygon\",\n",
    "  \"coordinates\": [\n",
    "    [\n",
    "      [\n",
    "              -122.38872528076173,\n",
    "              37.82442958216432\n",
    "            ],\n",
    "            [\n",
    "              -122.29534149169922,\n",
    "              37.82442958216432\n",
    "            ],\n",
    "            [\n",
    "              -122.29534149169922,\n",
    "              37.915221780801055\n",
    "            ],\n",
    "            [\n",
    "              -122.38872528076173,\n",
    "              37.915221780801055\n",
    "            ],\n",
    "            [\n",
    "              -122.38872528076173,\n",
    "              37.82442958216432\n",
    "            ]\n",
    "    ]\n",
    "  ]\n",
    "}"
   ]
  },
  {
   "cell_type": "code",
   "execution_count": 13,
   "metadata": {},
   "outputs": [],
   "source": [
    "# get images that overlap with our AOI \n",
    "geometry_filter = {\n",
    "  \"type\": \"GeometryFilter\",\n",
    "  \"field_name\": \"geometry\",\n",
    "  \"config\": geojson_geometry\n",
    "}"
   ]
  },
  {
   "cell_type": "code",
   "execution_count": 14,
   "metadata": {},
   "outputs": [],
   "source": [
    "import os\n",
    "import json\n",
    "import requests\n",
    "from requests.auth import HTTPBasicAuth\n",
    "\n",
    "PLANET_API_KEY = '3f77623fe0684b5eb61d9622c5002be6'\n",
    "\n",
    "# Using REOrthoTile as specified in the Planet API downloading docs with the Visual asset returns a colored image\n",
    "item_type = \"REOrthoTile\"\n",
    "\n",
    "# API request object, depending on the filter specifications, the returned images may return none if the conditions aren't met\n",
    "search_request = {\n",
    "  \"item_types\": [item_type], \n",
    "  \"filter\": combined_filter\n",
    "}\n",
    "\n",
    "# fire off the POST request\n",
    "search_result = \\\n",
    "  requests.post(\n",
    "    'https://api.planet.com/data/v1/quick-search',\n",
    "    auth=HTTPBasicAuth(PLANET_API_KEY, ''),\n",
    "    json=search_request)"
   ]
  },
  {
   "cell_type": "code",
   "execution_count": 15,
   "metadata": {},
   "outputs": [
    {
     "name": "stdout",
     "output_type": "stream",
     "text": [
      "['20200326_183130_1056517_RapidEye-1', '20200325_182412_1056517_RapidEye-1', '20200321_182514_1056517_RapidEye-4', '20200319_182709_1056517_RapidEye-3', '20200303_182256_1056517_RapidEye-2', '20200302_183517_1056517_RapidEye-1', '20200227_183232_1056517_RapidEye-4', '20200225_183148_1056517_RapidEye-3', '20200224_182304_1056517_RapidEye-3', '20200220_183526_1056517_RapidEye-1', '20200219_182621_1056517_RapidEye-1', '20200212_183739_1056517_RapidEye-2', '20200210_183846_1056517_RapidEye-1', '20200206_183221_1056517_RapidEye-4', '20200204_182923_1056517_RapidEye-3', '20200106_184206_1056517_RapidEye-2', '20191228_183956_1056517_RapidEye-2', '20191124_183848_1056517_RapidEye-2', '20191118_183257_1056517_RapidEye-3', '20191103_183312_1056517_RapidEye-3', '20191101_183541_1056517_RapidEye-2', '20181116_185852_1056517_RapidEye-4', '20191014_183807_1056517_RapidEye-4', '20190921_184225_1056517_RapidEye-2', '20190916_183527_1056517_RapidEye-3', '20190823_183027_1056517_RapidEye-4', '20190822_183203_1056517_RapidEye-3', '20190816_183425_1056517_RapidEye-3', '20190813_183317_1056517_RapidEye-1', '20190804_183730_1056517_RapidEye-3', '20190724_183413_1056517_RapidEye-4', '20190718_183136_1056517_RapidEye-4', '20190717_183232_1056517_RapidEye-3', '20190715_184442_1056517_RapidEye-1', '20190703_183333_1056517_RapidEye-1', '20190626_184303_1056517_RapidEye-4', '20190618_184602_1056517_RapidEye-2', '20190611_183718_1056517_RapidEye-1', '20190607_184533_1056517_RapidEye-2', '20190603_184214_1056517_RapidEye-3', '20190530_184915_1056517_RapidEye-4', '20190523_183612_1056517_RapidEye-3', '20190409_183722_1056517_RapidEye-5', '20190228_184018_1056517_RapidEye-4', '20190129_185939_1056517_RapidEye-2', '20190102_184603_1056517_RapidEye-4', '20181206_184356_1056517_RapidEye-1', '20181118_184846_1056517_RapidEye-2', '20181117_184507_1056517_RapidEye-1', '20181111_185403_1056517_RapidEye-4', '20181018_185013_1056517_RapidEye-4', '20181009_190049_1056517_RapidEye-4', '20180921_184814_1056517_RapidEye-1', '20180910_185202_1056517_RapidEye-4', '20180903_190919_1056517_RapidEye-1', '20180829_190428_1056517_RapidEye-1', '20180820_185813_1056517_RapidEye-2', '20180818_190812_1056517_RapidEye-4', '20180813_190319_1056517_RapidEye-4', '20180811_190845_1056517_RapidEye-2', '20180730_190852_1056517_RapidEye-4', '20180719_185631_1056517_RapidEye-3', '20180718_190439_1056517_RapidEye-2', '20180710_190702_1056517_RapidEye-3', '20180704_191017_1056517_RapidEye-2', '20180630_185716_1056517_RapidEye-3', '20180620_191552_1056517_RapidEye-2', '20180610_190602_1056517_RapidEye-2', '20180607_185532_1056517_RapidEye-4', '20180601_191628_1056517_RapidEye-2', '20180523_185832_1056517_RapidEye-3', '20180512_191338_1056517_RapidEye-1', '20180421_190654_1056517_RapidEye-4', '20180402_190716_1056517_RapidEye-4', '20180222_190534_1056517_RapidEye-3', '20180213_191551_1056517_RapidEye-3', '20180204_190806_1056517_RapidEye-4', '20180123_192044_1056517_RapidEye-1', '20160602_193636_1056517_RapidEye-5', '20160521_194941_1056517_RapidEye-2', '20171229_191151_1056517_RapidEye-5', '20171204_190312_1056517_RapidEye-4', '20171210_191151_1056517_RapidEye-5', '20171130_191826_1056517_RapidEye-4', '20171124_191114_1056517_RapidEye-3', '20171121_191148_1056517_RapidEye-5', '20171114_192929_1056517_RapidEye-2', '20171106_191315_1056517_RapidEye-4', '20171102_191143_1056517_RapidEye-5', '20171024_192151_1056517_RapidEye-5', '20171016_191909_1056517_RapidEye-2', '20171006_192552_1056517_RapidEye-1', '20171004_191756_1056517_RapidEye-4', '20170930_191708_1056517_RapidEye-5', '20170928_191124_1056517_RapidEye-3', '20170917_192601_1056517_RapidEye-1', '20170915_191753_1056517_RapidEye-4', '20170909_191131_1056517_RapidEye-3', '20170902_192725_1056517_RapidEye-5', '20170827_191812_1056517_RapidEye-4', '20090513_194607_1056517_RapidEye-5', '20170826_191639_1056517_RapidEye-3', '20110503_195848_1056517_RapidEye-5', '20170821_191136_1056517_RapidEye-3', '20170818_191209_1056517_RapidEye-5', '20120329_200730_1056517_RapidEye-2', '20120415_200205_1056517_RapidEye-5', '20121208_195302_1056517_RapidEye-4', '20170809_192216_1056517_RapidEye-5', '20130326_200532_1056517_RapidEye-2', '20170808_191812_1056517_RapidEye-4', '20170727_193111_1056517_RapidEye-1', '20170719_191633_1056517_RapidEye-3', '20170713_191942_1056517_RapidEye-2', '20170708_193100_1056517_RapidEye-1', '20170702_192211_1056517_RapidEye-5', '20170701_191806_1056517_RapidEye-4', '20170619_193049_1056517_RapidEye-1', '20170616_192203_1056517_RapidEye-3', '20170613_192242_1056517_RapidEye-5', '20170611_191719_1056517_RapidEye-3', '20170602_192805_1056517_RapidEye-3', '20170531_193207_1056517_RapidEye-1', '20150120_194601_1056517_RapidEye-1', '20170423_193439_1056517_RapidEye-1', '20150111_195653_1056517_RapidEye-1', '20170517_192201_1056517_RapidEye-2', '20170511_192941_1056517_RapidEye-5', '20170504_191951_1056517_RapidEye-3', '20170503_192759_1056517_RapidEye-2', '20170418_192953_1056517_RapidEye-1', '20170414_192907_1056517_RapidEye-2', '20170329_192652_1056517_RapidEye-5', '20170314_192851_1056517_RapidEye-4', '20170313_192755_1056517_RapidEye-3', '20170308_192306_1056517_RapidEye-3', '20170225_193726_1056517_RapidEye-1', '20170214_192336_1056517_RapidEye-5', '20170131_192907_1056517_RapidEye-5', '20170105_192034_1056517_RapidEye-3', '20161227_193107_1056517_RapidEye-3', '20161226_193844_1056517_RapidEye-2', '20161225_193439_1056517_RapidEye-1', '20161203_192901_1056517_RapidEye-3', '20161201_193206_1056517_RapidEye-1', '20161129_192504_1056517_RapidEye-4', '20161124_192041_1056517_RapidEye-4', '20161112_193425_1056517_RapidEye-1', '20161108_193423_1056517_RapidEye-2', '20161104_192253_1056517_RapidEye-3', '20161020_193640_1056517_RapidEye-2', '20161018_192901_1056517_RapidEye-5', '20161006_194321_1056517_RapidEye-2', '20160928_192724_1056517_RapidEye-4', '20160927_192717_1056517_RapidEye-3', '20160913_193350_1056517_RapidEye-3', '20160912_194048_1056517_RapidEye-2', '20090209_193507_1056517_RapidEye-3', '20090527_194021_1056517_RapidEye-5', '20090313_194809_1056517_RapidEye-1', '20090326_193831_1056517_RapidEye-5', '20090614_193815_1056517_RapidEye-4', '20090824_194856_1056517_RapidEye-3', '20090602_194819_1056517_RapidEye-1', '20090816_194112_1056517_RapidEye-5', '20090706_194228_1056517_RapidEye-2', '20090617_194334_1056517_RapidEye-2', '20090717_195115_1056517_RapidEye-3', '20090620_194418_1056517_RapidEye-5', '20090818_194502_1056517_RapidEye-2', '20090823_194948_1056517_RapidEye-2', '20091005_195200_1056517_RapidEye-2', '20090904_194002_1056517_RapidEye-5', '20090906_194350_1056517_RapidEye-2', '20091114_194921_1056517_RapidEye-4', '20090919_195422_1056517_RapidEye-5', '20090928_194342_1056517_RapidEye-5', '20090909_194449_1056517_RapidEye-5', '20091117_195435_1056517_RapidEye-2', '20091107_194458_1056517_RapidEye-2', '20091105_194124_1056517_RapidEye-5', '20091021_194538_1056517_RapidEye-4', '20091128_194328_1056517_RapidEye-4', '20160404_193601_1056517_RapidEye-3', '20160420_193417_1056517_RapidEye-5', '20160403_194208_1056517_RapidEye-2', '20160101_194549_1056517_RapidEye-4', '20151228_194453_1056517_RapidEye-5', '20150826_194032_1056517_RapidEye-5', '20160302_194235_1056517_RapidEye-3', '20151012_194622_1056517_RapidEye-4', '20151013_194949_1056517_RapidEye-5', '20151120_194809_1056517_RapidEye-5', '20150922_194642_1056517_RapidEye-3', '20150923_194656_1056517_RapidEye-4', '20150326_194501_1056517_RapidEye-4', '20160502_195047_1056517_RapidEye-2', '20160727_192814_1056517_RapidEye-3', '20160711_193701_1056517_RapidEye-1', '20160706_193221_1056517_RapidEye-1', '20160714_193446_1056517_RapidEye-4', '20160817_193025_1056517_RapidEye-5', '20160805_194408_1056517_RapidEye-2', '20160731_193927_1056517_RapidEye-2', '20160803_193646_1056517_RapidEye-5', '20160215_195152_1056517_RapidEye-1', '20160123_195153_1056517_RapidEye-2', '20151225_194453_1056517_RapidEye-2', '20151224_194257_1056517_RapidEye-1', '20151211_195113_1056517_RapidEye-2', '20160131_193840_1056517_RapidEye-1', '20160207_194051_1056517_RapidEye-3', '20150716_200015_1056517_RapidEye-1', '20151011_194605_1056517_RapidEye-3', '20150719_194102_1056517_RapidEye-5', '20151007_194128_1056517_RapidEye-4', '20150921_195025_1056517_RapidEye-2', '20150630_194254_1056517_RapidEye-5', '20141116_200137_1056517_RapidEye-2', '20140430_200032_1056517_RapidEye-2', '20140718_195549_1056517_RapidEye-5', '20140503_200014_1056517_RapidEye-5', '20140505_200525_1056517_RapidEye-2', '20140318_195752_1056517_RapidEye-2', '20140315_194928_1056517_RapidEye-4', '20140308_200655_1056517_RapidEye-1', '20160621_193514_1056517_RapidEye-5', '20160623_194220_1056517_RapidEye-2', '20160607_194120_1056517_RapidEye-5', '20160613_194929_1056517_RapidEye-1', '20160317_193722_1056517_RapidEye-4', '20160519_194239_1056517_RapidEye-5', '20160601_193302_1056517_RapidEye-4', '20160518_193905_1056517_RapidEye-4', '20160717_194537_1056517_RapidEye-2', '20151025_194024_1056517_RapidEye-3', '20150817_195038_1056517_RapidEye-5', '20150619_195029_1056517_RapidEye-3', '20150831_194535_1056517_RapidEye-5', '20150729_195029_1056517_RapidEye-5', '20150829_194203_1056517_RapidEye-3', '20150827_194344_1056517_RapidEye-1', '20150813_194848_1056517_RapidEye-1', '20150615_194604_1056517_RapidEye-4', '20150224_200022_1056517_RapidEye-2', '20150607_194321_1056517_RapidEye-1', '20150613_194928_1056517_RapidEye-2', '20150425_195704_1056517_RapidEye-5', '20150417_195206_1056517_RapidEye-2', '20150103_194533_1056517_RapidEye-3']\n"
     ]
    }
   ],
   "source": [
    "# extract image IDs only\n",
    "image_ids = [feature['id'] for feature in search_result.json()['features']]\n",
    "print(image_ids)"
   ]
  },
  {
   "cell_type": "code",
   "execution_count": 16,
   "metadata": {},
   "outputs": [
    {
     "name": "stdout",
     "output_type": "stream",
     "text": [
      "dict_keys(['analytic', 'analytic_sr', 'analytic_xml', 'udm', 'visual', 'visual_xml'])\n"
     ]
    }
   ],
   "source": [
    "# Just grab the first image ID\n",
    "id0 = image_ids[0]\n",
    "id0_url = 'https://api.planet.com/data/v1/item-types/{}/items/{}/assets'.format(item_type, id0)\n",
    "\n",
    "# Returns JSON metadata for assets in this ID. Learn more: planet.com/docs/reference/data-api/items-assets/#asset\n",
    "result = \\\n",
    "  requests.get(\n",
    "    id0_url,\n",
    "    auth=HTTPBasicAuth(PLANET_API_KEY, '')\n",
    "  )\n",
    "\n",
    "# List of asset types available for this particular satellite image\n",
    "print(result.json().keys())"
   ]
  },
  {
   "cell_type": "code",
   "execution_count": 17,
   "metadata": {},
   "outputs": [
    {
     "name": "stdout",
     "output_type": "stream",
     "text": [
      "inactive\n"
     ]
    }
   ],
   "source": [
    "# This is \"inactive\" if the \"analytic\" asset has not yet been activated; otherwise 'active'\n",
    "print(result.json()['visual']['status'])"
   ]
  },
  {
   "cell_type": "code",
   "execution_count": 18,
   "metadata": {},
   "outputs": [],
   "source": [
    "# Parse out useful links\n",
    "links = result.json()[u\"visual\"][\"_links\"]\n",
    "self_link = links[\"_self\"]\n",
    "activation_link = links[\"activate\"]\n",
    "\n",
    "# Request activation of the 'analytic' asset:\n",
    "activate_result = \\\n",
    "  requests.get(\n",
    "    activation_link,\n",
    "    auth=HTTPBasicAuth(PLANET_API_KEY, '')\n",
    "  )"
   ]
  },
  {
   "cell_type": "code",
   "execution_count": 20,
   "metadata": {},
   "outputs": [
    {
     "name": "stdout",
     "output_type": "stream",
     "text": [
      "activating\n"
     ]
    }
   ],
   "source": [
    "activation_status_result = \\\n",
    "  requests.get(\n",
    "    self_link,\n",
    "    auth=HTTPBasicAuth(PLANET_API_KEY, '')\n",
    "  )\n",
    "    \n",
    "print(activation_status_result.json()[\"status\"])"
   ]
  },
  {
   "cell_type": "code",
   "execution_count": 29,
   "metadata": {},
   "outputs": [
    {
     "name": "stdout",
     "output_type": "stream",
     "text": [
      "activating\n"
     ]
    }
   ],
   "source": [
    "print(activation_status_result.json()[\"status\"])"
   ]
  },
  {
   "cell_type": "code",
   "execution_count": 28,
   "metadata": {},
   "outputs": [
    {
     "ename": "KeyError",
     "evalue": "'location'",
     "output_type": "error",
     "traceback": [
      "\u001b[1;31m---------------------------------------------------------------------------\u001b[0m",
      "\u001b[1;31mKeyError\u001b[0m                                  Traceback (most recent call last)",
      "\u001b[1;32m<ipython-input-28-469af4f8d184>\u001b[0m in \u001b[0;36m<module>\u001b[1;34m\u001b[0m\n\u001b[1;32m----> 1\u001b[1;33m \u001b[0mdownload_link\u001b[0m \u001b[1;33m=\u001b[0m \u001b[0mactivation_status_result\u001b[0m\u001b[1;33m.\u001b[0m\u001b[0mjson\u001b[0m\u001b[1;33m(\u001b[0m\u001b[1;33m)\u001b[0m\u001b[1;33m[\u001b[0m\u001b[1;34m'location'\u001b[0m\u001b[1;33m]\u001b[0m\u001b[1;33m\u001b[0m\u001b[1;33m\u001b[0m\u001b[0m\n\u001b[0m\u001b[0;32m      2\u001b[0m \u001b[0mprint\u001b[0m\u001b[1;33m(\u001b[0m\u001b[0mdownload_link\u001b[0m\u001b[1;33m)\u001b[0m\u001b[1;33m\u001b[0m\u001b[1;33m\u001b[0m\u001b[0m\n\u001b[0;32m      3\u001b[0m \u001b[1;31m# click link to download\u001b[0m\u001b[1;33m\u001b[0m\u001b[1;33m\u001b[0m\u001b[1;33m\u001b[0m\u001b[0m\n",
      "\u001b[1;31mKeyError\u001b[0m: 'location'"
     ]
    }
   ],
   "source": [
    "download_link = activation_status_result.json()['location']\n",
    "print(download_link)\n",
    "# click link to download"
   ]
  },
  {
   "cell_type": "code",
   "execution_count": null,
   "metadata": {},
   "outputs": [],
   "source": []
  }
 ],
 "metadata": {
  "kernelspec": {
   "display_name": "Python 3",
   "language": "python",
   "name": "python3"
  },
  "language_info": {
   "codemirror_mode": {
    "name": "ipython",
    "version": 3
   },
   "file_extension": ".py",
   "mimetype": "text/x-python",
   "name": "python",
   "nbconvert_exporter": "python",
   "pygments_lexer": "ipython3",
   "version": "3.8.5"
  }
 },
 "nbformat": 4,
 "nbformat_minor": 4
}
